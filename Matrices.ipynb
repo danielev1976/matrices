{
 "cells": [
  {
   "cell_type": "markdown",
   "id": "17238775",
   "metadata": {},
   "source": [
    "# Matrices and Vectors"
   ]
  },
  {
   "attachments": {},
   "cell_type": "markdown",
   "id": "180ddd5e",
   "metadata": {},
   "source": [
    "### Matrix - definition\n",
    "For all intents and purposes, a matrix is simply an object that consists of elements ordered in such a way that the entries in the matrix create a structure of m rows and n columns. <br>\n",
    "Let $A$ be a matrix with $m$ rows and $n$ columns. The entries of $A$ are denoted by $a_{ij}$, where $i$ shows on which row that specific element is located, and in a similar fasion $j$ shows which column. Thus we have:\n",
    "\n",
    "$$ A = \\begin{bmatrix} a_{11} & a_{12} & \\cdots & a_{1n} \\\\ a_{21} & a_{22} & \\cdots & a_{2n} \\\\ \\vdots & \\vdots & \\ddots & \\vdots \\\\ a_{m1} & a_{m2} & \\cdots & a_{mn} \\end{bmatrix} $$\n",
    "\n",
    "We say that $A$ is an $m \\times n$ matrix, or that $A$ has size $m \\times n$. If $m = n$, we say that $A$ is a square matrix.\n",
    "\n",
    " "
   ]
  },
  {
   "cell_type": "markdown",
   "id": "24d6ca17",
   "metadata": {},
   "source": [
    "As a clariftying example, Let $A$ be a 2x3 matrix with entries $a_{ij}$ \n",
    "\n",
    "$$ A = \\begin{bmatrix} a_{11} & a_{12} & a_{13} \\\\ a_{21} & a_{22} & a_{23} \\end{bmatrix} = \\begin{bmatrix} 2 & -5 & 8 \\\\ -1 & 7 & 0 \\end{bmatrix} $$\n",
    "\n",
    "In this example, the entries of the matrix are real valued integers given by: <br>\n",
    "$a_{11} = 2$, $a_{12} = -5$, $a_{13} = 8$, $a_{21} = -1$, $a_{22} = 7$, and $a_{23} = 0$. "
   ]
  },
  {
   "cell_type": "code",
   "execution_count": 69,
   "id": "912d49e6",
   "metadata": {},
   "outputs": [
    {
     "name": "stdout",
     "output_type": "stream",
     "text": [
      "Matrix A:\n",
      "[[ 2 -5  8]\n",
      " [-1  7  0]]\n"
     ]
    }
   ],
   "source": [
    "# Create the matrix using python\n",
    "import numpy as np\n",
    "A = np.array([[2,-5,8],[-1,7,0]])\n",
    "print(\"Matrix A:\")\n",
    "print(A)"
   ]
  },
  {
   "attachments": {},
   "cell_type": "markdown",
   "id": "de7c2b9b",
   "metadata": {},
   "source": [
    "And here is another example: <br>\n",
    "    Let $B$ be a 3x2 matrix with real number entries $b_{ij}$. Then we have:\n",
    "\n",
    "$$ B = \\begin{bmatrix} b_{11} & a_{12} \\\\ b_{21} & a_{22} \\\\ b_{31} & b_{32} \\end{bmatrix} = \\begin{bmatrix} 1.2 & -0.5 \\\\ 0 & 4.7 \\\\ -2.1 & 3.3 \\end{bmatrix} $$\n",
    "\n",
    "In this example, the entries of the matrix are real-valued numbers given by: <br> \n",
    "$b_{11} = 1.2$, $b_{12} = -0.5$, $b_{21} = 0$, $b_{22} = 4.7$, $b_{31} = -2.1$, and $b_{32} = 3.3$. "
   ]
  },
  {
   "cell_type": "code",
   "execution_count": 70,
   "id": "0a376c80",
   "metadata": {},
   "outputs": [
    {
     "name": "stdout",
     "output_type": "stream",
     "text": [
      "Matrix B:\n",
      "[[ 1.2 -0.5]\n",
      " [ 0.   4.7]\n",
      " [-2.1  3.3]]\n"
     ]
    }
   ],
   "source": [
    "# Create the matrix using python\n",
    "B = np.array([[1.2, -0.5], [0, 4.7], [-2.1, 3.3]])\n",
    "print(\"Matrix B:\")\n",
    "print(B)"
   ]
  },
  {
   "cell_type": "markdown",
   "id": "7a562976",
   "metadata": {},
   "source": [
    "### Vector - definition\n",
    "A vector is a special kind of matrix that consists of either one row (called row vector) or one column (called column vector).\n",
    "Given $\\vec{u}$ and $\\vec{v}$ as:\n",
    "$$ \\vec{u} = \\begin{bmatrix} u_1 & u_2 & u_3 \\end{bmatrix} \\quad \\text{and} \\quad \\vec{v} = \\begin{bmatrix} v_1 \\\\ v_2 \\\\ v_3 \\end{bmatrix} $$\n",
    "Here $\\vec{u}$ is a row vector while $\\vec{v}$ is a column vector. <br>\n",
    "As an example, we could have $\\vec{u} = \\begin{bmatrix} 3 & -4 & 2 \\end{bmatrix}$ and $\\vec{v} = \\begin{bmatrix} -1 \\\\ 5 \\\\ -2 \\end{bmatrix}$.\n"
   ]
  },
  {
   "cell_type": "markdown",
   "id": "015a443f",
   "metadata": {},
   "source": [
    "### Matrix addition\n",
    "Matrix addition (needless to say that subtraction follows the same rule) is done entry-wise and hence the matrices must have the same dimentionality. \n",
    "One can not for instance add a $2\\times 3$ matrix with a $3 \\times 2$ matrix. Same goes for vectors. <br>\n",
    "Let $A$ and $B$ be two 2x3 matrices with entries $a_{ij}$ and $b_{ij}$, respectively. Then we can add these matrices entry-wise to obtain the sum $C = A + B$:\n",
    "\n",
    "$$\n",
    "A = \\begin{bmatrix} 2 & 6 & -8 \\\\ -7 & 3 & 1 \\end{bmatrix} \\quad \\text{and} \\quad B = \\begin{bmatrix} 5 & -2 & 4 \\\\ 0 & -5 & 9 \\end{bmatrix}\n",
    "$$\n",
    "\n",
    "To compute $C = A + B$, we add the corresponding entries of $A$ and $B$:\n",
    "\n",
    "$$\n",
    "C = A + B = \\begin{bmatrix} 2+5 & 6+(-2) & (-8)+4 \\\\ (-7)+0 & 3+(-5) & 1+9 \\end{bmatrix} = \\begin{bmatrix} 7 & 4 & -4 \\\\ -7 & -2 & 10 \\end{bmatrix}\n",
    "$$"
   ]
  },
  {
   "cell_type": "code",
   "execution_count": 71,
   "id": "72d57eef",
   "metadata": {},
   "outputs": [
    {
     "name": "stdout",
     "output_type": "stream",
     "text": [
      "C = A + B:\n",
      " [[ 7  4 -4]\n",
      " [-7 -2 10]]\n"
     ]
    }
   ],
   "source": [
    "# Python\n",
    "A = np.array([[2,6,-8],[-7,3,1]])\n",
    "B = np.array([[5,-2,4],[0,-5,9]])\n",
    "C = A + B\n",
    "print(\"C = A + B:\\n\", C)"
   ]
  },
  {
   "cell_type": "markdown",
   "id": "93337fff",
   "metadata": {},
   "source": [
    "# Matrix transpose\n",
    "When transposing a matrix, the rows of the matrix become simply its columns and vise versa. <br>\n",
    "Let $A$ be a 3x4 matrix. Then the transpose of $A$, denoted by $A^T$, is obtained by interchanging its rows and columns.\n",
    "\n",
    "For example, consider the following matrix:\n",
    "\n",
    "$$\n",
    "A = \\begin{bmatrix}\n",
    "-3 & 5 & 1 & -6 \\\\\n",
    "0 & 2 & -2 & 6 \\\\\n",
    "4 & 3 & -5 & -3 \\\\\n",
    "\\end{bmatrix}\n",
    "$$\n",
    "\n",
    "To find the transpose of $A$, we interchange its rows and columns:\n",
    "\n",
    "$$\n",
    "A^T = \\begin{bmatrix}\n",
    "-3 & 0 & 4 \\\\\n",
    "5 & 2 & 3 \\\\\n",
    "1 & -2 & -5 \\\\\n",
    "-6 & 6 & -3 \\\\\n",
    "\\end{bmatrix}\n",
    "$$\n",
    "\n",
    "Therefore, the transpose of $A$ is $A^T = \\begin{bmatrix} -3 & 0 & 4 \\\\ 5 & 2 & 3 \\\\ 1 & -2 & -5 \\\\ -6 & 6 & -3 \\end{bmatrix}$.\n"
   ]
  },
  {
   "cell_type": "code",
   "execution_count": 73,
   "id": "8a0ba054",
   "metadata": {},
   "outputs": [
    {
     "name": "stdout",
     "output_type": "stream",
     "text": [
      "Transposed matrix A_t:\n",
      " [[-3  0  4]\n",
      " [ 5  2  3]\n",
      " [ 1 -2 -5]\n",
      " [-6  6 -3]]\n"
     ]
    }
   ],
   "source": [
    "# Python\n",
    "A = np.array([[-3,5,1,-6],[0,2,-2,6],[4,3,-5,-3]])\n",
    "# A transpose\n",
    "A_t = np.transpose(A)\n",
    "print(\"Transposed matrix A_t:\\n\", A_t)"
   ]
  },
  {
   "attachments": {},
   "cell_type": "markdown",
   "id": "6ea7ad01",
   "metadata": {},
   "source": [
    "So logically, when transposing a row vector one obtains a column vector and vise versa. With the previously given vectors:\n",
    "<br>\n",
    "<br>\n",
    "  $\\vec{v} = \\begin{bmatrix} -1 \\\\ 5 \\\\ -2 \\end{bmatrix} \\quad \n",
    "  \\vec{v}^{T} =  \\begin{bmatrix} -1 & 5 & -2 \\end{bmatrix} $ <br>"
   ]
  },
  {
   "cell_type": "markdown",
   "id": "d1090582",
   "metadata": {},
   "source": [
    "### Scalar product\n",
    "When taking the scalar product of two vectors one obtains a scalar (i e a number). This is accomplished by multiplying the first entry in the first vector with the first entry in the second vector, the second with the second and so on, and finaly sum all the products. <br>\n",
    "\n",
    "The scalar product (or dot product) of two vectors $\\vec{u}$ and $\\vec{v}$ is defined as the sum of the products of their corresponding entries. \n",
    "<br>\n",
    "If $\\vec{u} = \\begin{bmatrix} u_1 & u_2 & u_3 \\end{bmatrix}$ and $\\vec{v} = \\begin{bmatrix} v_1 \\\\ v_2 \\\\ v_3 \\end{bmatrix}$, \n",
    "<br>\n",
    "then the scalar product of $\\vec{u}$ and $\\vec{v}$, denoted by $\\vec{u} \\cdot \\vec{v}$, is given by: \n",
    "\n",
    "$$\n",
    "\\vec{u} \\cdot \\vec{v} = u_1v_1 + u_2v_2 + u_3v_3.\n",
    "$$\n",
    "\n",
    "Using this formula, we can compute the scalar product of the vectors $\\vec{u} = \\begin{bmatrix} 3 & -4 & 2 \\end{bmatrix}$ and $\\vec{v} = \\begin{bmatrix} -1 \\\\ 5 \\\\ -2 \\end{bmatrix}$ as follows:\n",
    "\n",
    "$$\n",
    "\\begin{aligned}\n",
    "\\vec{u} \\cdot \\vec{v} &= (3)(-1) + (-4)(5) + (2)(-2) \\\\\n",
    "&= -3 - 20 - 4 \\\\\n",
    "&= -27\n",
    "\\end{aligned}\n",
    "$$\n",
    "\n",
    "Therefore, the scalar product of the vectors $\\vec{u}$ and $\\vec{v}$ is $\\vec{u} \\cdot \\vec{v} = -27$.\n",
    "<br>\n",
    "One can easily see that for this to work, the number of entries in both vectors must be the same."
   ]
  },
  {
   "cell_type": "code",
   "execution_count": 74,
   "id": "9827ecdf",
   "metadata": {},
   "outputs": [
    {
     "name": "stdout",
     "output_type": "stream",
     "text": [
      "w = -27\n"
     ]
    }
   ],
   "source": [
    "# Python\n",
    "u = np.array([3,-4,2])\n",
    "v = np.array([-1,5,-2])\n",
    "w = np.dot(u,v)\n",
    "print(\"w =\", w)"
   ]
  },
  {
   "attachments": {},
   "cell_type": "markdown",
   "id": "f5dd1233",
   "metadata": {},
   "source": [
    "### Matrix multiplication\n",
    "When multiplying two matrices keep in mind, rows scalar product columns.\n",
    "\n",
    "<br>\n",
    "Given two matrices $A$ and $B$, their product $C = AB$ is defined if and only if the number of columns of $A$ is equal to the number of rows of $B$. The resulting matrix $C$ will have the same number of rows as $A$ and the same number of columns as $B$. \n",
    "<br>\n",
    "For clarity, the entries in matrix $C$ given next will be: <br>\n",
    "\n",
    "$c_{11} = row_{1} \\cdot col_{1} $ <br>\n",
    "$c_{12} = row_{1} \\cdot col_{2}$ <br>\n",
    "$c_{21} = row_{2} \\cdot col_{1} $<br>\n",
    "$c_{22} = row_{2} \\cdot col_{2} $<br>\n",
    "\n",
    "Consider the following two matrices:\n",
    "\n",
    "$$\n",
    "A = \\begin{bmatrix}\n",
    "2 & -3 & 1 \\\\\n",
    "4 & 5 & -2 \\\\\n",
    "\\end{bmatrix}\n",
    "\\quad \\text{and} \\quad\n",
    "B = \\begin{bmatrix}\n",
    "-1 & 2 \\\\\n",
    "3 & 0 \\\\\n",
    "-2 & 1 \\\\\n",
    "\\end{bmatrix}\n",
    "$$\n",
    "\n",
    "\n",
    "To find their product $C = AB$, we multiply the rows of $A$ by the columns of $B$ as follows:\n",
    "\n",
    "$$\n",
    "\\begin{aligned}\n",
    "C &= AB \\\\\n",
    "&= \\begin{bmatrix} 2 & -3 & 1 \\\\ 4 & 5 & -2 \\end{bmatrix} \\begin{bmatrix} -1 & 2 \\\\ 3 & 0 \\\\ -2 & 1 \\end{bmatrix} \\\\\n",
    "&= \\begin{bmatrix} (2)(-1) + (-3)(3) + (1)(-2) & (2)(2) + (-3)(0) + (1)(1) \\\\ (4)(-1) + (5)(3) + (-2)(-2) & (4)(2) + (5)(0) + (-2)(1) \\end{bmatrix} \\\\\n",
    "&= \\begin{bmatrix} -13 & 5 \\\\ 15 & 6 \\end{bmatrix}\n",
    "\\end{aligned}\n",
    "$$\n",
    "\n",
    "Therefore, the product of the two matrices $A$ and $B$ is $C = \\begin{bmatrix} -13 & 5 \\\\ 15 & 6 \\end{bmatrix}$.\n"
   ]
  },
  {
   "cell_type": "code",
   "execution_count": 75,
   "id": "b2960ab5",
   "metadata": {},
   "outputs": [
    {
     "name": "stdout",
     "output_type": "stream",
     "text": [
      "C =  [[-13   5]\n",
      " [ 15   6]]\n"
     ]
    }
   ],
   "source": [
    "# Python\n",
    "A = np.array([[2,-3,1],[4,5,-2]])\n",
    "B = np.array([[-1,2],[3,0],[-2,1]])\n",
    "D = np.array([[2, -3, 1], [4, 5, -2]])\n",
    "F = np.array([[-1, 2], [3, 0], [-2, 1]])\n",
    "\n",
    "C = np.dot(D, F)\n",
    "print(\"C = \", C)"
   ]
  },
  {
   "cell_type": "markdown",
   "id": "e4b307dd",
   "metadata": {},
   "source": [
    "### Matrix vector multiplication\n",
    "Finally here is how one multiplies a matrix with a vector. <br>\n",
    "Given a matrix $A$ and a vector $\\vec{v}$: \n",
    "<br>\n",
    "\n",
    "$$A = \\begin{bmatrix}\n",
    "1 & 2 & 3 \\\\\n",
    "4 & 5 & 6 \\\\\n",
    "7 & 8 & 9\n",
    "\\end{bmatrix}\n",
    " \\quad \\text{and} \\quad \\vec{v} = \\begin{bmatrix} 1 & 2 & 3  \\end{bmatrix},\n",
    "$$ <br>\n",
    "\n",
    "multiplying $\\matrix{A}$ with $\\vec{v}$ yields:\n",
    "\n",
    "$$\n",
    "\\begin{aligned}\n",
    "A\\vec{v} = \\begin{bmatrix}\n",
    "1 & 2 & 3 \\\\\n",
    "4 & 5 & 6 \\\\\n",
    "7 & 8 & 9\n",
    "\\end{bmatrix}\n",
    "\\begin{bmatrix}\n",
    "1 \\\\\n",
    "2 \\\\\n",
    "3\n",
    "\\end{bmatrix}\n",
    "=\n",
    "\\begin{bmatrix}\n",
    "1\\cdot 1 + 2 \\cdot 2 + 3 \\cdot 3 \\\\\n",
    "4 \\cdot 1 + 5 \\cdot 2 + 6 \\cdot 3 \\\\\n",
    "7 \\cdot 1 + 8 \\cdot 2 + 9 \\cdot 3\n",
    "\\end{bmatrix}\n",
    "=\n",
    "\\begin{bmatrix}\n",
    "14 \\\\\n",
    "32 \\\\\n",
    "50\n",
    "\\end{bmatrix}\n",
    "\\end{aligned}\n",
    "$$\n",
    "\n",
    "Notice how even here the rule of rows from the first object are multiplied with in this case the only vector from the other object."
   ]
  },
  {
   "cell_type": "code",
   "execution_count": 58,
   "id": "627dca0b",
   "metadata": {},
   "outputs": [
    {
     "name": "stdout",
     "output_type": "stream",
     "text": [
      "[14 32 50]\n"
     ]
    }
   ],
   "source": [
    "import numpy as np\n",
    "\n",
    "# Define matrix A and vector v\n",
    "A = np.array([[1, 2, 3], [4, 5, 6], [7, 8, 9]])\n",
    "v = np.array([1, 2, 3])\n",
    "\n",
    "# Compute the product Av\n",
    "Av = np.dot(A, v)\n",
    "\n",
    "print(Av)\n"
   ]
  },
  {
   "cell_type": "code",
   "execution_count": null,
   "id": "b89c2360",
   "metadata": {},
   "outputs": [],
   "source": []
  }
 ],
 "metadata": {
  "kernelspec": {
   "display_name": "Python 3 (ipykernel)",
   "language": "python",
   "name": "python3"
  },
  "language_info": {
   "codemirror_mode": {
    "name": "ipython",
    "version": 3
   },
   "file_extension": ".py",
   "mimetype": "text/x-python",
   "name": "python",
   "nbconvert_exporter": "python",
   "pygments_lexer": "ipython3",
   "version": "3.9.13"
  }
 },
 "nbformat": 4,
 "nbformat_minor": 5
}
